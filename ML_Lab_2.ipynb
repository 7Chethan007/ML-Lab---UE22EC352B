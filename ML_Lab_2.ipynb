{
  "nbformat": 4,
  "nbformat_minor": 0,
  "metadata": {
    "colab": {
      "provenance": [],
      "authorship_tag": "ABX9TyPh84Do5+xcfUtcgqF1LIGM",
      "include_colab_link": true
    },
    "kernelspec": {
      "name": "python3",
      "display_name": "Python 3"
    },
    "language_info": {
      "name": "python"
    }
  },
  "cells": [
    {
      "cell_type": "markdown",
      "metadata": {
        "id": "view-in-github",
        "colab_type": "text"
      },
      "source": [
        "<a href=\"https://colab.research.google.com/github/7Chethan007/ML-Lab---UE22EC352B/blob/main/ML_Lab_2.ipynb\" target=\"_parent\"><img src=\"https://colab.research.google.com/assets/colab-badge.svg\" alt=\"Open In Colab\"/></a>"
      ]
    },
    {
      "cell_type": "markdown",
      "source": [
        "Expt 2: Aim: To split the dataset into train, validation, and test datasets.\n",
        "    (a) Iris dataset\n",
        "    (b) digits dataset\n",
        "    (c) diabetes dataset\n",
        "\n",
        "\n",
        "2(a) Program to split the iris dataset into train, validation, and test datasets.\n",
        "In this program, 30 % of the total samples are reserved for testing. Now 70% of data samples are divided in the ratio of 70:30 as training set and validation set."
      ],
      "metadata": {
        "id": "HiqDt7akjNR-"
      }
    },
    {
      "cell_type": "code",
      "execution_count": 2,
      "metadata": {
        "colab": {
          "base_uri": "https://localhost:8080/"
        },
        "id": "JKhwgNNWjF7Q",
        "outputId": "f4fac178-0f37-433c-954f-88cb2e1b1b70"
      },
      "outputs": [
        {
          "output_type": "stream",
          "name": "stdout",
          "text": [
            " Totoal number of samples in the Dataset   150\n",
            " Total number of labels in the Dataset  150\n",
            " Total number of samples in training set X_train  73\n",
            " Total number of labels in training set y_train  73\n",
            " Total number of samples in testing set X_test  45\n",
            " Total number of labels in testing set y_test  45\n",
            " Total number of samples in validation set X_test  32\n",
            " Total number of labels in validation set  y_test  32\n",
            "The 3 samples of training set\n",
            "       0    1    2    3\n",
            "135  7.7  3.0  6.1  2.3\n",
            "148  6.2  3.4  5.4  2.3\n",
            "73   6.1  2.8  4.7  1.2\n",
            "The random 3 samples of training set\n",
            "       0    1    2    3\n",
            "120  6.9  3.2  5.7  2.3\n",
            "98   5.1  2.5  3.0  1.1\n",
            "76   6.8  2.8  4.8  1.4\n",
            "The 3 samples of testing set\n",
            "       0    1    2    3\n",
            "85   6.0  3.4  4.5  1.6\n",
            "130  7.4  2.8  6.1  1.9\n",
            "32   5.2  4.1  1.5  0.1\n",
            "The random 3 samples of testing set\n",
            "       0    1    2    3\n",
            "102  7.1  3.0  5.9  2.1\n",
            "80   5.5  2.4  3.8  1.1\n",
            "119  6.0  2.2  5.0  1.5\n",
            "The 3 samples of validation set\n",
            "       0    1    2    3\n",
            "123  6.3  2.7  4.9  1.8\n",
            "140  6.7  3.1  5.6  2.4\n",
            "4    5.0  3.6  1.4  0.2\n",
            "The random 3 samples of validation set\n",
            "       0    1    2    3\n",
            "146  6.3  2.5  5.0  1.9\n",
            "114  5.8  2.8  5.1  2.4\n",
            "123  6.3  2.7  4.9  1.8\n"
          ]
        }
      ],
      "source": [
        "import pandas as pd\n",
        "from sklearn import datasets\n",
        "from sklearn.model_selection import train_test_split\n",
        "\n",
        "# load the iris dataset\n",
        "iris = datasets.load_iris()\n",
        "df = pd.DataFrame(iris.data)\n",
        "label = pd.DataFrame(iris.target)\n",
        "\n",
        "\n",
        "# Let us split 70% for Training and 30% for Testing\n",
        "\n",
        "X_train, X_test, y_train, y_test = train_test_split(df, label,test_size=0.3,shuffle = True)\n",
        "\n",
        "X_train, X_val, y_train, y_val = train_test_split(X_train, y_train, test_size=0.3,shuffle= True)\n",
        "\n",
        "print(\" Totoal number of samples in the Dataset  \", df.shape[0])\n",
        "print(\" Total number of labels in the Dataset \", label.shape[0])\n",
        "\n",
        "print(\" Total number of samples in training set X_train \", X_train.shape[0])\n",
        "print(\" Total number of labels in training set y_train \" , y_train.shape[0])\n",
        "\n",
        "print(\" Total number of samples in testing set X_test \", X_test.shape[0])\n",
        "print(\" Total number of labels in testing set y_test \" , y_test.shape[0])\n",
        "\n",
        "print(\" Total number of samples in validation set X_test \", X_val.shape[0])\n",
        "print(\" Total number of labels in validation set  y_test \" , y_val.shape[0])\n",
        "\n",
        "print('The 3 samples of training set')\n",
        "print(X_train.head(3))\n",
        "print('The random 3 samples of training set')\n",
        "print(X_train.sample(3))\n",
        "\n",
        "print('The 3 samples of testing set')\n",
        "print(X_test.head(3))\n",
        "print('The random 3 samples of testing set')\n",
        "print(X_test.sample(3))\n",
        "print('The 3 samples of validation set')\n",
        "print(X_val.head(3))\n",
        "print('The random 3 samples of validation set')\n",
        "print(X_val.sample(3))"
      ]
    },
    {
      "cell_type": "markdown",
      "source": [
        "Assignment\n",
        "    1) Obtain the results for train = 65% validation = 15% test =20% and justify.\n",
        "    2) Obtain the results   for train = 75% validation = 15% test =15% and justify.\n",
        "    3) Obtain the results   for train = 85% validation = 5% test =10% and justify."
      ],
      "metadata": {
        "id": "db_-A_hFjmD-"
      }
    },
    {
      "cell_type": "code",
      "source": [
        "#Program 2b\n",
        "import pandas as pd\n",
        "from sklearn import datasets\n",
        "from sklearn.model_selection import train_test_split\n",
        "\n",
        "# load the digits dataset\n",
        "digit = datasets.load_digits()\n",
        "df = pd.DataFrame(digit.data)\n",
        "label = pd.DataFrame(digit.target)\n",
        "\n",
        "\n",
        "#  Let us split 80% for Training and 20% for Testing\n",
        "X_train, X_test, y_train, y_test = train_test_split(df, label,test_size=0.2, shuffle = True)\n",
        "\n",
        "\n",
        "# Of the 80% Traing Set , Now 20% is reserved for validation set and remaining 80% is reserverd for Training\n",
        "X_train, X_val, y_train, y_val = train_test_split(X_train, y_train, test_size=0.2, shuffle = True)\n",
        "\n",
        "print(\" Total number of samples in the Dataset  \", df.shape[0])\n",
        "print(\" Total number of labels in the Dataset \", label.shape[0])\n",
        "\n",
        "print(\" Total number of samples in training set X_train \", X_train.shape[0])\n",
        "print(\" Total number of labels in training set y_train \" , y_train.shape[0])\n",
        "\n",
        "print(\" Total number of samples in testing set X_test \", X_test.shape[0])\n",
        "print(\" Total number of labels in testing set y_test \" , y_test.shape[0])\n",
        "\n",
        "print(\" Total number of samples in validation set X_test \", X_val.shape[0])\n",
        "print(\" Total number of labels in validation set  y_test \" , y_val.shape[0])\n",
        "\n",
        "print('The 3 samples of training set')\n",
        "print(X_train.head(3))\n",
        "print('The 3 random  samples of training set')\n",
        "print(X_train.sample(3))\n",
        "\n",
        "print('The 3 samples of validation set')\n",
        "print(X_val.head(3))\n",
        "print('The 3 random  samples of validation set')\n",
        "print(X_val.sample(3))\n",
        "\n",
        "print('The 3 samples of testing set')\n",
        "print(X_test.head(3))\n",
        "print('The 3 random  samples of testing set')\n",
        "print(X_test.sample(3))"
      ],
      "metadata": {
        "colab": {
          "base_uri": "https://localhost:8080/"
        },
        "id": "ZfR20sOOjXc4",
        "outputId": "aee629af-6971-4bbf-8aed-c053a93cc953"
      },
      "execution_count": 3,
      "outputs": [
        {
          "output_type": "stream",
          "name": "stdout",
          "text": [
            " Total number of samples in the Dataset   1797\n",
            " Total number of labels in the Dataset  1797\n",
            " Total number of samples in training set X_train  1149\n",
            " Total number of labels in training set y_train  1149\n",
            " Total number of samples in testing set X_test  360\n",
            " Total number of labels in testing set y_test  360\n",
            " Total number of samples in validation set X_test  288\n",
            " Total number of labels in validation set  y_test  288\n",
            "The 3 samples of training set\n",
            "      0    1     2     3     4     5    6    7    8    9   ...    54   55  \\\n",
            "374  0.0  0.0   1.0   9.0  16.0  16.0  3.0  0.0  0.0  0.0  ...   0.0  0.0   \n",
            "83   0.0  2.0  13.0  15.0  10.0   4.0  0.0  0.0  0.0  0.0  ...   0.0  0.0   \n",
            "88   0.0  0.0   0.0  10.0  11.0   0.0  0.0  0.0  0.0  0.0  ...  14.0  0.0   \n",
            "\n",
            "      56   57    58    59    60    61   62   63  \n",
            "374  0.0  0.0   0.0  12.0   7.0   0.0  0.0  0.0  \n",
            "83   0.0  2.0  12.0  14.0  11.0   1.0  0.0  0.0  \n",
            "88   0.0  0.0   0.0   9.0  13.0  11.0  6.0  0.0  \n",
            "\n",
            "[3 rows x 64 columns]\n",
            "The 3 random  samples of training set\n",
            "       0    1    2     3     4     5    6    7    8    9   ...   54   55   56  \\\n",
            "639   0.0  0.0  0.0   3.0  12.0  10.0  0.0  0.0  0.0  0.0  ...  8.0  0.0  0.0   \n",
            "1522  0.0  0.0  0.0   1.0  10.0  16.0  8.0  0.0  0.0  1.0  ...  3.0  0.0  0.0   \n",
            "807   0.0  0.0  2.0  10.0  10.0  11.0  0.0  0.0  0.0  0.0  ...  1.0  0.0  0.0   \n",
            "\n",
            "       57   58    59    60    61    62   63  \n",
            "639   0.0  0.0   3.0  10.0  11.0  15.0  2.0  \n",
            "1522  0.0  0.0   0.0  10.0  16.0   7.0  0.0  \n",
            "807   0.0  2.0  14.0  16.0  13.0   0.0  0.0  \n",
            "\n",
            "[3 rows x 64 columns]\n",
            "The 3 samples of validation set\n",
            "       0    1     2     3     4    5    6    7    8    9   ...   54   55   56  \\\n",
            "999   0.0  0.0   9.0  15.0  14.0  2.0  0.0  0.0  0.0  0.0  ...  4.0  0.0  0.0   \n",
            "1553  0.0  0.0   1.0   8.0  13.0  1.0  0.0  0.0  0.0  0.0  ...  0.0  0.0  0.0   \n",
            "906   0.0  0.0  10.0  15.0   1.0  0.0  0.0  0.0  0.0  0.0  ...  4.0  1.0  0.0   \n",
            "\n",
            "       57    58    59    60    61    62    63  \n",
            "999   0.0   7.0  14.0  16.0  10.0   0.0   0.0  \n",
            "1553  0.0   0.0   5.0  12.0   5.0   0.0   0.0  \n",
            "906   0.0  10.0  16.0  16.0  16.0  16.0  10.0  \n",
            "\n",
            "[3 rows x 64 columns]\n",
            "The 3 random  samples of validation set\n",
            "       0    1    2     3     4     5    6    7    8    9   ...   54   55   56  \\\n",
            "80    0.0  0.0  0.0   1.0  14.0  13.0  1.0  0.0  0.0  0.0  ...  0.0  0.0  0.0   \n",
            "1424  0.0  0.0  5.0  12.0  13.0  12.0  0.0  0.0  0.0  7.0  ...  6.0  0.0  0.0   \n",
            "594   0.0  0.0  2.0  11.0  15.0   2.0  0.0  0.0  0.0  0.0  ...  0.0  0.0  0.0   \n",
            "\n",
            "       57   58    59    60    61   62   63  \n",
            "80    0.0  0.0   2.0  13.0  15.0  2.0  0.0  \n",
            "1424  0.0  6.0  16.0  16.0   8.0  1.0  0.0  \n",
            "594   0.0  4.0  16.0  12.0   1.0  0.0  0.0  \n",
            "\n",
            "[3 rows x 64 columns]\n",
            "The 3 samples of testing set\n",
            "       0    1     2     3     4    5    6    7    8    9   ...    54   55  \\\n",
            "234   0.0  0.0   3.0  15.0   4.0  0.0  0.0  0.0  0.0  0.0  ...  15.0  0.0   \n",
            "563   0.0  0.0   2.0  16.0   5.0  0.0  0.0  0.0  0.0  0.0  ...  14.0  9.0   \n",
            "1785  0.0  1.0  10.0  16.0  15.0  2.0  0.0  0.0  0.0  1.0  ...   0.0  0.0   \n",
            "\n",
            "       56   57    58    59    60    61    62   63  \n",
            "234   0.0  0.0   3.0  13.0  16.0  15.0   5.0  0.0  \n",
            "563   0.0  0.0   2.0  10.0  13.0  16.0  10.0  3.0  \n",
            "1785  0.0  0.0  10.0  15.0   2.0   0.0   0.0  0.0  \n",
            "\n",
            "[3 rows x 64 columns]\n",
            "The 3 random  samples of testing set\n",
            "       0    1    2     3     4     5    6    7    8    9   ...   54   55   56  \\\n",
            "719   0.0  0.0  0.0   0.0   8.0  13.0  3.0  0.0  0.0  0.0  ...  0.0  0.0  0.0   \n",
            "492   0.0  0.0  0.0  11.0  16.0  12.0  1.0  0.0  0.0  0.0  ...  0.0  0.0  0.0   \n",
            "1719  0.0  0.0  7.0  14.0  16.0   8.0  0.0  0.0  0.0  0.0  ...  0.0  0.0  0.0   \n",
            "\n",
            "       57   58    59    60   61   62   63  \n",
            "719   0.0  0.0   0.0   9.0  7.0  0.0  0.0  \n",
            "492   0.0  1.0   8.0  13.0  0.0  0.0  0.0  \n",
            "1719  0.0  6.0  13.0   0.0  0.0  0.0  0.0  \n",
            "\n",
            "[3 rows x 64 columns]\n"
          ]
        }
      ]
    },
    {
      "cell_type": "markdown",
      "source": [
        "Assignment\n",
        "    1) In the above program replace shuffle = True by  shuffle = False. Execute two times, note the result and justify the result.\n",
        "2) Split the diabetes dataset in training , testing and validation sets.  25% of the total dataset is reserved for testing set. Out of 75% of the remaining samples, training and validation sets are divided in the ratio 70:30"
      ],
      "metadata": {
        "id": "nNbI9aRDj2P-"
      }
    },
    {
      "cell_type": "code",
      "source": [
        "# prompt: Assignment\n",
        "#     1) In the above program replace shuffle = True by  shuffle = False. Execute two times, note the result and justify the result.\n",
        "# 2) Split the diabetes dataset in training , testing and validation sets.  25% of the total dataset is reserved for testing set. Out of 75% of the remaining samples, training and validation sets are divided in the ratio 70:30\n",
        "\n",
        "import pandas as pd\n",
        "from sklearn import datasets\n",
        "from sklearn.model_selection import train_test_split\n",
        "\n",
        "# 2) Split the diabetes dataset\n",
        "diabetes = datasets.load_diabetes()\n",
        "df = pd.DataFrame(diabetes.data)\n",
        "label = pd.DataFrame(diabetes.target)\n",
        "\n",
        "# Split data into training and testing sets (75% train, 25% test)\n",
        "X_train, X_test, y_train, y_test = train_test_split(df, label, test_size=0.25, shuffle=False)\n",
        "\n",
        "# Split training set into training and validation sets (70% train, 30% validation)\n",
        "X_train, X_val, y_train, y_val = train_test_split(X_train, y_train, test_size=0.3/0.75, shuffle=False)\n",
        "\n",
        "print(\"Total number of samples in the Dataset \", df.shape[0])\n",
        "print(\"Total number of labels in the Dataset \", label.shape[0])\n",
        "\n",
        "print(\"Total number of samples in training set X_train \", X_train.shape[0])\n",
        "print(\"Total number of labels in training set y_train \", y_train.shape[0])\n",
        "\n",
        "print(\"Total number of samples in testing set X_test \", X_test.shape[0])\n",
        "print(\"Total number of labels in testing set y_test \", y_test.shape[0])\n",
        "\n",
        "print(\"Total number of samples in validation set X_val \", X_val.shape[0])\n",
        "print(\"Total number of labels in validation set y_val \", y_val.shape[0])"
      ],
      "metadata": {
        "colab": {
          "base_uri": "https://localhost:8080/"
        },
        "id": "9XO90JZdjpMU",
        "outputId": "c251e75a-9c59-4516-8e29-d278fc8fd8e8"
      },
      "execution_count": 4,
      "outputs": [
        {
          "output_type": "stream",
          "name": "stdout",
          "text": [
            "Total number of samples in the Dataset  442\n",
            "Total number of labels in the Dataset  442\n",
            "Total number of samples in training set X_train  198\n",
            "Total number of labels in training set y_train  198\n",
            "Total number of samples in testing set X_test  111\n",
            "Total number of labels in testing set y_test  111\n",
            "Total number of samples in validation set X_val  133\n",
            "Total number of labels in validation set y_val  133\n"
          ]
        }
      ]
    }
  ]
}